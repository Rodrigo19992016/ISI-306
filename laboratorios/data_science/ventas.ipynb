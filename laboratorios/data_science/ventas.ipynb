{
 "metadata": {
  "language_info": {
   "codemirror_mode": {
    "name": "ipython",
    "version": 3
   },
   "file_extension": ".py",
   "mimetype": "text/x-python",
   "name": "python",
   "nbconvert_exporter": "python",
   "pygments_lexer": "ipython3",
   "version": "3.6.9-final"
  },
  "orig_nbformat": 2,
  "kernelspec": {
   "name": "Python 3.6.9 64-bit ('lasalle')",
   "display_name": "Python 3.6.9 64-bit ('lasalle')",
   "metadata": {
    "interpreter": {
     "hash": "0dc92aab04647deeb7136e80d1f31e0a319055287fe488619f0e9fb989c8320a"
    }
   }
  }
 },
 "nbformat": 4,
 "nbformat_minor": 2,
 "cells": [
  {
   "source": [
    "# Analisis de ventas\n"
   ],
   "cell_type": "markdown",
   "metadata": {}
  },
  {
   "cell_type": "code",
   "execution_count": 1,
   "metadata": {},
   "outputs": [],
   "source": [
    "import os\n",
    "import pandas as pd"
   ]
  },
  {
   "source": [
    "## consolidar datos de todo el año"
   ],
   "cell_type": "markdown",
   "metadata": {}
  },
  {
   "cell_type": "code",
   "execution_count": 7,
   "metadata": {},
   "outputs": [
    {
     "output_type": "stream",
     "name": "stdout",
     "text": [
      "['Sales_May_2019.csv', 'Sales_October_2019.csv', 'Sales_January_2019.csv', 'Sales_July_2019.csv', 'Sales_November_2019.csv', 'Sales_March_2019.csv', 'Sales_September_2019.csv', 'Sales_April_2019.csv', 'Sales_February_2019.csv', 'Sales_August_2019.csv', 'Sales_December_2019.csv', 'Sales_June_2019.csv']\n"
     ]
    }
   ],
   "source": [
    "path = 'Sales_Data'\n",
    "archivos = [file for file in os.listdir(path) if not file.startswith('.')]\n",
    "print(archivos)\n",
    "data_anual = pd.DataFrame()\n",
    "\n",
    "for archivo in archivos:\n",
    "    actual = pd.read_csv(path + '/' + archivo)\n",
    "    data_anual = pd.concat([data_anual, actual])\n",
    "\n",
    "data_anual.to_csv('consolidado_2019.csv', index=False)"
   ]
  },
  {
   "cell_type": "code",
   "execution_count": 8,
   "metadata": {},
   "outputs": [
    {
     "output_type": "execute_result",
     "data": {
      "text/plain": [
       "        Order ID               Product Quantity Ordered Price Each  \\\n",
       "count     186305                186305           186305     186305   \n",
       "unique    178438                    20               10         24   \n",
       "top     Order ID  USB-C Charging Cable                1      11.95   \n",
       "freq         355                 21903           168552      21903   \n",
       "\n",
       "        Order Date  Purchase Address  \n",
       "count       186305            186305  \n",
       "unique      142396            140788  \n",
       "top     Order Date  Purchase Address  \n",
       "freq           355               355  "
      ],
      "text/html": "<div>\n<style scoped>\n    .dataframe tbody tr th:only-of-type {\n        vertical-align: middle;\n    }\n\n    .dataframe tbody tr th {\n        vertical-align: top;\n    }\n\n    .dataframe thead th {\n        text-align: right;\n    }\n</style>\n<table border=\"1\" class=\"dataframe\">\n  <thead>\n    <tr style=\"text-align: right;\">\n      <th></th>\n      <th>Order ID</th>\n      <th>Product</th>\n      <th>Quantity Ordered</th>\n      <th>Price Each</th>\n      <th>Order Date</th>\n      <th>Purchase Address</th>\n    </tr>\n  </thead>\n  <tbody>\n    <tr>\n      <th>count</th>\n      <td>186305</td>\n      <td>186305</td>\n      <td>186305</td>\n      <td>186305</td>\n      <td>186305</td>\n      <td>186305</td>\n    </tr>\n    <tr>\n      <th>unique</th>\n      <td>178438</td>\n      <td>20</td>\n      <td>10</td>\n      <td>24</td>\n      <td>142396</td>\n      <td>140788</td>\n    </tr>\n    <tr>\n      <th>top</th>\n      <td>Order ID</td>\n      <td>USB-C Charging Cable</td>\n      <td>1</td>\n      <td>11.95</td>\n      <td>Order Date</td>\n      <td>Purchase Address</td>\n    </tr>\n    <tr>\n      <th>freq</th>\n      <td>355</td>\n      <td>21903</td>\n      <td>168552</td>\n      <td>21903</td>\n      <td>355</td>\n      <td>355</td>\n    </tr>\n  </tbody>\n</table>\n</div>"
     },
     "metadata": {},
     "execution_count": 8
    }
   ],
   "source": [
    "data_anual.describe()"
   ]
  },
  {
   "cell_type": "code",
   "execution_count": 9,
   "metadata": {},
   "outputs": [
    {
     "output_type": "execute_result",
     "data": {
      "text/plain": [
       "  Order ID                 Product Quantity Ordered Price Each  \\\n",
       "0   194095        Wired Headphones                1      11.99   \n",
       "1   194096   AA Batteries (4-pack)                1       3.84   \n",
       "2   194097        27in FHD Monitor                1     149.99   \n",
       "3   194098        Wired Headphones                1      11.99   \n",
       "4   194099  AAA Batteries (4-pack)                2       2.99   \n",
       "\n",
       "       Order Date                         Purchase Address  \n",
       "0  05/16/19 17:14      669 2nd St, New York City, NY 10001  \n",
       "1  05/19/19 14:43          844 Walnut St, Dallas, TX 75001  \n",
       "2  05/24/19 11:36  164 Madison St, New York City, NY 10001  \n",
       "3  05/02/19 20:40          622 Meadow St, Dallas, TX 75001  \n",
       "4  05/11/19 22:55          17 Church St, Seattle, WA 98101  "
      ],
      "text/html": "<div>\n<style scoped>\n    .dataframe tbody tr th:only-of-type {\n        vertical-align: middle;\n    }\n\n    .dataframe tbody tr th {\n        vertical-align: top;\n    }\n\n    .dataframe thead th {\n        text-align: right;\n    }\n</style>\n<table border=\"1\" class=\"dataframe\">\n  <thead>\n    <tr style=\"text-align: right;\">\n      <th></th>\n      <th>Order ID</th>\n      <th>Product</th>\n      <th>Quantity Ordered</th>\n      <th>Price Each</th>\n      <th>Order Date</th>\n      <th>Purchase Address</th>\n    </tr>\n  </thead>\n  <tbody>\n    <tr>\n      <th>0</th>\n      <td>194095</td>\n      <td>Wired Headphones</td>\n      <td>1</td>\n      <td>11.99</td>\n      <td>05/16/19 17:14</td>\n      <td>669 2nd St, New York City, NY 10001</td>\n    </tr>\n    <tr>\n      <th>1</th>\n      <td>194096</td>\n      <td>AA Batteries (4-pack)</td>\n      <td>1</td>\n      <td>3.84</td>\n      <td>05/19/19 14:43</td>\n      <td>844 Walnut St, Dallas, TX 75001</td>\n    </tr>\n    <tr>\n      <th>2</th>\n      <td>194097</td>\n      <td>27in FHD Monitor</td>\n      <td>1</td>\n      <td>149.99</td>\n      <td>05/24/19 11:36</td>\n      <td>164 Madison St, New York City, NY 10001</td>\n    </tr>\n    <tr>\n      <th>3</th>\n      <td>194098</td>\n      <td>Wired Headphones</td>\n      <td>1</td>\n      <td>11.99</td>\n      <td>05/02/19 20:40</td>\n      <td>622 Meadow St, Dallas, TX 75001</td>\n    </tr>\n    <tr>\n      <th>4</th>\n      <td>194099</td>\n      <td>AAA Batteries (4-pack)</td>\n      <td>2</td>\n      <td>2.99</td>\n      <td>05/11/19 22:55</td>\n      <td>17 Church St, Seattle, WA 98101</td>\n    </tr>\n  </tbody>\n</table>\n</div>"
     },
     "metadata": {},
     "execution_count": 9
    }
   ],
   "source": [
    "data_anual.head()"
   ]
  },
  {
   "source": [
    "## Limpieza de los datos"
   ],
   "cell_type": "markdown",
   "metadata": {}
  },
  {
   "cell_type": "code",
   "execution_count": 12,
   "metadata": {},
   "outputs": [],
   "source": [
    "# borrar filas vacias\n",
    "nan_df = data_anual[data_anual.isna().any(axis=1)]\n",
    "\n",
    "data_anual = data_anual.dropna(how='all')"
   ]
  },
  {
   "cell_type": "code",
   "execution_count": 15,
   "metadata": {},
   "outputs": [
    {
     "output_type": "execute_result",
     "data": {
      "text/plain": [
       "Empty DataFrame\n",
       "Columns: [Order ID, Product, Quantity Ordered, Price Each, Order Date, Purchase Address]\n",
       "Index: []"
      ],
      "text/html": "<div>\n<style scoped>\n    .dataframe tbody tr th:only-of-type {\n        vertical-align: middle;\n    }\n\n    .dataframe tbody tr th {\n        vertical-align: top;\n    }\n\n    .dataframe thead th {\n        text-align: right;\n    }\n</style>\n<table border=\"1\" class=\"dataframe\">\n  <thead>\n    <tr style=\"text-align: right;\">\n      <th></th>\n      <th>Order ID</th>\n      <th>Product</th>\n      <th>Quantity Ordered</th>\n      <th>Price Each</th>\n      <th>Order Date</th>\n      <th>Purchase Address</th>\n    </tr>\n  </thead>\n  <tbody>\n  </tbody>\n</table>\n</div>"
     },
     "metadata": {},
     "execution_count": 15
    }
   ],
   "source": [
    "nan_df2 = data_anual[data_anual.isna().any(axis=1)]\n",
    "nan_df2"
   ]
  },
  {
   "cell_type": "code",
   "execution_count": 16,
   "metadata": {},
   "outputs": [],
   "source": [
    "data_anual = data_anual[data_anual['Order Date'].str[0:2] != 'Or']"
   ]
  },
  {
   "source": [
    "### convertir datos numericos\n"
   ],
   "cell_type": "markdown",
   "metadata": {}
  },
  {
   "cell_type": "code",
   "execution_count": 22,
   "metadata": {},
   "outputs": [],
   "source": [
    "data_anual['Quantity Ordered'] = pd.to_numeric(data_anual['Quantity Ordered'])\n",
    "data_anual['Price Each'] = pd.to_numeric(data_anual['Price Each'])"
   ]
  },
  {
   "cell_type": "code",
   "execution_count": 24,
   "metadata": {},
   "outputs": [
    {
     "output_type": "execute_result",
     "data": {
      "text/plain": [
       "numpy.float64"
      ]
     },
     "metadata": {},
     "execution_count": 24
    }
   ],
   "source": [
    "type(data_anual['Price Each'][0].values[0])"
   ]
  },
  {
   "source": [
    "### agregar columna de mes"
   ],
   "cell_type": "markdown",
   "metadata": {}
  },
  {
   "cell_type": "code",
   "execution_count": 29,
   "metadata": {},
   "outputs": [
    {
     "output_type": "execute_result",
     "data": {
      "text/plain": [
       "  Order ID                 Product  Quantity Ordered  Price Each  \\\n",
       "0   194095        Wired Headphones                 1       11.99   \n",
       "1   194096   AA Batteries (4-pack)                 1        3.84   \n",
       "2   194097        27in FHD Monitor                 1      149.99   \n",
       "3   194098        Wired Headphones                 1       11.99   \n",
       "4   194099  AAA Batteries (4-pack)                 2        2.99   \n",
       "\n",
       "       Order Date                         Purchase Address  Month  \n",
       "0  05/16/19 17:14      669 2nd St, New York City, NY 10001      5  \n",
       "1  05/19/19 14:43          844 Walnut St, Dallas, TX 75001      5  \n",
       "2  05/24/19 11:36  164 Madison St, New York City, NY 10001      5  \n",
       "3  05/02/19 20:40          622 Meadow St, Dallas, TX 75001      5  \n",
       "4  05/11/19 22:55          17 Church St, Seattle, WA 98101      5  "
      ],
      "text/html": "<div>\n<style scoped>\n    .dataframe tbody tr th:only-of-type {\n        vertical-align: middle;\n    }\n\n    .dataframe tbody tr th {\n        vertical-align: top;\n    }\n\n    .dataframe thead th {\n        text-align: right;\n    }\n</style>\n<table border=\"1\" class=\"dataframe\">\n  <thead>\n    <tr style=\"text-align: right;\">\n      <th></th>\n      <th>Order ID</th>\n      <th>Product</th>\n      <th>Quantity Ordered</th>\n      <th>Price Each</th>\n      <th>Order Date</th>\n      <th>Purchase Address</th>\n      <th>Month</th>\n    </tr>\n  </thead>\n  <tbody>\n    <tr>\n      <th>0</th>\n      <td>194095</td>\n      <td>Wired Headphones</td>\n      <td>1</td>\n      <td>11.99</td>\n      <td>05/16/19 17:14</td>\n      <td>669 2nd St, New York City, NY 10001</td>\n      <td>5</td>\n    </tr>\n    <tr>\n      <th>1</th>\n      <td>194096</td>\n      <td>AA Batteries (4-pack)</td>\n      <td>1</td>\n      <td>3.84</td>\n      <td>05/19/19 14:43</td>\n      <td>844 Walnut St, Dallas, TX 75001</td>\n      <td>5</td>\n    </tr>\n    <tr>\n      <th>2</th>\n      <td>194097</td>\n      <td>27in FHD Monitor</td>\n      <td>1</td>\n      <td>149.99</td>\n      <td>05/24/19 11:36</td>\n      <td>164 Madison St, New York City, NY 10001</td>\n      <td>5</td>\n    </tr>\n    <tr>\n      <th>3</th>\n      <td>194098</td>\n      <td>Wired Headphones</td>\n      <td>1</td>\n      <td>11.99</td>\n      <td>05/02/19 20:40</td>\n      <td>622 Meadow St, Dallas, TX 75001</td>\n      <td>5</td>\n    </tr>\n    <tr>\n      <th>4</th>\n      <td>194099</td>\n      <td>AAA Batteries (4-pack)</td>\n      <td>2</td>\n      <td>2.99</td>\n      <td>05/11/19 22:55</td>\n      <td>17 Church St, Seattle, WA 98101</td>\n      <td>5</td>\n    </tr>\n  </tbody>\n</table>\n</div>"
     },
     "metadata": {},
     "execution_count": 29
    }
   ],
   "source": [
    "data_anual['Month'] = pd.to_numeric(data_anual['Order Date'].str[:2])\n",
    "data_anual.head()"
   ]
  },
  {
   "cell_type": "code",
   "execution_count": 36,
   "metadata": {},
   "outputs": [],
   "source": [
    "def get_ciudad(direccion):\n",
    "    return direccion.split(',')[1].strip(' ')\n",
    "def get_estado(direccion):\n",
    "    return direccion.split(',')[2].split(' ')[1]"
   ]
  },
  {
   "cell_type": "code",
   "execution_count": 37,
   "metadata": {},
   "outputs": [
    {
     "output_type": "execute_result",
     "data": {
      "text/plain": [
       "'NY'"
      ]
     },
     "metadata": {},
     "execution_count": 37
    }
   ],
   "source": [
    "get_estado('669 2nd St, New York City, NY 10001')"
   ]
  },
  {
   "cell_type": "code",
   "execution_count": 38,
   "metadata": {},
   "outputs": [
    {
     "output_type": "execute_result",
     "data": {
      "text/plain": [
       "  Order ID                 Product  Quantity Ordered  Price Each  \\\n",
       "0   194095        Wired Headphones                 1       11.99   \n",
       "1   194096   AA Batteries (4-pack)                 1        3.84   \n",
       "2   194097        27in FHD Monitor                 1      149.99   \n",
       "3   194098        Wired Headphones                 1       11.99   \n",
       "4   194099  AAA Batteries (4-pack)                 2        2.99   \n",
       "\n",
       "       Order Date                         Purchase Address  Month  \\\n",
       "0  05/16/19 17:14      669 2nd St, New York City, NY 10001      5   \n",
       "1  05/19/19 14:43          844 Walnut St, Dallas, TX 75001      5   \n",
       "2  05/24/19 11:36  164 Madison St, New York City, NY 10001      5   \n",
       "3  05/02/19 20:40          622 Meadow St, Dallas, TX 75001      5   \n",
       "4  05/11/19 22:55          17 Church St, Seattle, WA 98101      5   \n",
       "\n",
       "            City  \n",
       "0  New York City  \n",
       "1         Dallas  \n",
       "2  New York City  \n",
       "3         Dallas  \n",
       "4        Seattle  "
      ],
      "text/html": "<div>\n<style scoped>\n    .dataframe tbody tr th:only-of-type {\n        vertical-align: middle;\n    }\n\n    .dataframe tbody tr th {\n        vertical-align: top;\n    }\n\n    .dataframe thead th {\n        text-align: right;\n    }\n</style>\n<table border=\"1\" class=\"dataframe\">\n  <thead>\n    <tr style=\"text-align: right;\">\n      <th></th>\n      <th>Order ID</th>\n      <th>Product</th>\n      <th>Quantity Ordered</th>\n      <th>Price Each</th>\n      <th>Order Date</th>\n      <th>Purchase Address</th>\n      <th>Month</th>\n      <th>City</th>\n    </tr>\n  </thead>\n  <tbody>\n    <tr>\n      <th>0</th>\n      <td>194095</td>\n      <td>Wired Headphones</td>\n      <td>1</td>\n      <td>11.99</td>\n      <td>05/16/19 17:14</td>\n      <td>669 2nd St, New York City, NY 10001</td>\n      <td>5</td>\n      <td>New York City</td>\n    </tr>\n    <tr>\n      <th>1</th>\n      <td>194096</td>\n      <td>AA Batteries (4-pack)</td>\n      <td>1</td>\n      <td>3.84</td>\n      <td>05/19/19 14:43</td>\n      <td>844 Walnut St, Dallas, TX 75001</td>\n      <td>5</td>\n      <td>Dallas</td>\n    </tr>\n    <tr>\n      <th>2</th>\n      <td>194097</td>\n      <td>27in FHD Monitor</td>\n      <td>1</td>\n      <td>149.99</td>\n      <td>05/24/19 11:36</td>\n      <td>164 Madison St, New York City, NY 10001</td>\n      <td>5</td>\n      <td>New York City</td>\n    </tr>\n    <tr>\n      <th>3</th>\n      <td>194098</td>\n      <td>Wired Headphones</td>\n      <td>1</td>\n      <td>11.99</td>\n      <td>05/02/19 20:40</td>\n      <td>622 Meadow St, Dallas, TX 75001</td>\n      <td>5</td>\n      <td>Dallas</td>\n    </tr>\n    <tr>\n      <th>4</th>\n      <td>194099</td>\n      <td>AAA Batteries (4-pack)</td>\n      <td>2</td>\n      <td>2.99</td>\n      <td>05/11/19 22:55</td>\n      <td>17 Church St, Seattle, WA 98101</td>\n      <td>5</td>\n      <td>Seattle</td>\n    </tr>\n  </tbody>\n</table>\n</div>"
     },
     "metadata": {},
     "execution_count": 38
    }
   ],
   "source": [
    "data_anual['City'] = data_anual['Purchase Address'].apply(get_ciudad)\n",
    "data_anual.head()"
   ]
  },
  {
   "cell_type": "code",
   "execution_count": null,
   "metadata": {},
   "outputs": [],
   "source": []
  }
 ]
}