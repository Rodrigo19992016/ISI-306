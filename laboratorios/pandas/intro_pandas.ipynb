{
 "metadata": {
  "language_info": {
   "codemirror_mode": {
    "name": "ipython",
    "version": 3
   },
   "file_extension": ".py",
   "mimetype": "text/x-python",
   "name": "python",
   "nbconvert_exporter": "python",
   "pygments_lexer": "ipython3",
   "version": "3.6.9-final"
  },
  "orig_nbformat": 2,
  "kernelspec": {
   "name": "Python 3.6.9 64-bit ('lasalle')",
   "display_name": "Python 3.6.9 64-bit ('lasalle')",
   "metadata": {
    "interpreter": {
     "hash": "0dc92aab04647deeb7136e80d1f31e0a319055287fe488619f0e9fb989c8320a"
    }
   }
  }
 },
 "nbformat": 4,
 "nbformat_minor": 2,
 "cells": [
  {
   "source": [
    "# Introducción a Pandas\n",
    "\n",
    "En este notebook exploraremos una nueva librería para el manejo de datos estructurados con muchas funcionalides muy útiles para tareas de aprendizaje automático y ciencia de datos. \n",
    "\n",
    "Pandas nos permitirá importar, procesar y explorar datos en base a distintos formatos y características aprovechando varios conceptos y utilidades ya conocidas con con numpy,\n"
   ],
   "cell_type": "markdown",
   "metadata": {}
  },
  {
   "cell_type": "code",
   "execution_count": 1,
   "metadata": {},
   "outputs": [],
   "source": [
    "import numpy as np\n",
    "import pandas as pd"
   ]
  },
  {
   "source": [
    "## Estructuras de datos\n",
    "\n",
    "Pandas ofrece 2 estructuras de datos principales para realizar y facilitar las operaciones, los Dataframes y las Series.\n"
   ],
   "cell_type": "markdown",
   "metadata": {}
  },
  {
   "source": [
    "### Series\n",
    "\n",
    "Un objeto de tipo Series es un array unidimensional capaz de contener cualquier tipo de datos. Las etiquetas de los objetos se denominan índices o index.\n",
    "\n",
    "Para crear un objeto de tipo `series` se puede usar:\n",
    "\n",
    "```python\n",
    "s = pd.Series(data, index=index)\n",
    "```\n",
    "\n",
    "donde `data` puede ser un diccionario de python, un array de numpy, un valor escalar.\n",
    "\n",
    "`index` es una lista de etiquetas.\n"
   ],
   "cell_type": "markdown",
   "metadata": {}
  },
  {
   "cell_type": "code",
   "execution_count": 2,
   "metadata": {},
   "outputs": [],
   "source": [
    "s = pd.Series(np.random.randn(5), index=['a', 'b', 'c', 'd', 'e'])\n"
   ]
  },
  {
   "cell_type": "code",
   "execution_count": 3,
   "metadata": {},
   "outputs": [
    {
     "output_type": "execute_result",
     "data": {
      "text/plain": [
       "a   -0.904461\n",
       "b    1.307372\n",
       "c   -0.155950\n",
       "d    1.198162\n",
       "e    1.316672\n",
       "dtype: float64"
      ]
     },
     "metadata": {},
     "execution_count": 3
    }
   ],
   "source": [
    "s"
   ]
  },
  {
   "cell_type": "code",
   "execution_count": 4,
   "metadata": {},
   "outputs": [
    {
     "output_type": "execute_result",
     "data": {
      "text/plain": [
       "Index(['a', 'b', 'c', 'd', 'e'], dtype='object')"
      ]
     },
     "metadata": {},
     "execution_count": 4
    }
   ],
   "source": [
    "s.index"
   ]
  },
  {
   "cell_type": "code",
   "execution_count": 5,
   "metadata": {},
   "outputs": [
    {
     "output_type": "execute_result",
     "data": {
      "text/plain": [
       "b    1\n",
       "a    0\n",
       "c    2\n",
       "dtype: int64"
      ]
     },
     "metadata": {},
     "execution_count": 5
    }
   ],
   "source": [
    "d = {'b': 1, 'a': 0, 'c': 2}\n",
    "pd.Series(d)"
   ]
  },
  {
   "source": [
    "s[0]"
   ],
   "cell_type": "code",
   "metadata": {},
   "execution_count": 6,
   "outputs": [
    {
     "output_type": "execute_result",
     "data": {
      "text/plain": [
       "-0.9044607672905638"
      ]
     },
     "metadata": {},
     "execution_count": 6
    }
   ]
  },
  {
   "cell_type": "code",
   "execution_count": 7,
   "metadata": {},
   "outputs": [
    {
     "output_type": "execute_result",
     "data": {
      "text/plain": [
       "a   -0.904461\n",
       "b    1.307372\n",
       "c   -0.155950\n",
       "dtype: float64"
      ]
     },
     "metadata": {},
     "execution_count": 7
    }
   ],
   "source": [
    "s[:3]"
   ]
  },
  {
   "cell_type": "code",
   "execution_count": 8,
   "metadata": {},
   "outputs": [
    {
     "output_type": "execute_result",
     "data": {
      "text/plain": [
       "b    1.307372\n",
       "e    1.316672\n",
       "dtype: float64"
      ]
     },
     "metadata": {},
     "execution_count": 8
    }
   ],
   "source": [
    "s[s > s.median()]"
   ]
  },
  {
   "cell_type": "code",
   "execution_count": 9,
   "metadata": {},
   "outputs": [
    {
     "output_type": "execute_result",
     "data": {
      "text/plain": [
       "1.1981619779372439"
      ]
     },
     "metadata": {},
     "execution_count": 9
    }
   ],
   "source": [
    "s.median()"
   ]
  },
  {
   "cell_type": "code",
   "execution_count": 10,
   "metadata": {},
   "outputs": [
    {
     "output_type": "execute_result",
     "data": {
      "text/plain": [
       "e    1.316672\n",
       "d    1.198162\n",
       "b    1.307372\n",
       "dtype: float64"
      ]
     },
     "metadata": {},
     "execution_count": 10
    }
   ],
   "source": [
    "s[[4, 3, 1]]"
   ]
  },
  {
   "cell_type": "code",
   "execution_count": 11,
   "metadata": {},
   "outputs": [
    {
     "output_type": "execute_result",
     "data": {
      "text/plain": [
       "a    0.404760\n",
       "b    3.696446\n",
       "c    0.855602\n",
       "d    3.314020\n",
       "e    3.730986\n",
       "dtype: float64"
      ]
     },
     "metadata": {},
     "execution_count": 11
    }
   ],
   "source": [
    "np.exp(s)"
   ]
  },
  {
   "cell_type": "code",
   "execution_count": 12,
   "metadata": {},
   "outputs": [
    {
     "output_type": "execute_result",
     "data": {
      "text/plain": [
       "-0.9044607672905638"
      ]
     },
     "metadata": {},
     "execution_count": 12
    }
   ],
   "source": [
    "s['a']"
   ]
  },
  {
   "cell_type": "code",
   "execution_count": 14,
   "metadata": {},
   "outputs": [
    {
     "output_type": "execute_result",
     "data": {
      "text/plain": [
       "a    -0.904461\n",
       "b     1.307372\n",
       "c    -0.155950\n",
       "d     1.198162\n",
       "e    12.000000\n",
       "dtype: float64"
      ]
     },
     "metadata": {},
     "execution_count": 14
    }
   ],
   "source": [
    "s['e'] = 12.\n",
    "s"
   ]
  },
  {
   "cell_type": "code",
   "execution_count": 15,
   "metadata": {},
   "outputs": [
    {
     "output_type": "execute_result",
     "data": {
      "text/plain": [
       "True"
      ]
     },
     "metadata": {},
     "execution_count": 15
    }
   ],
   "source": [
    "'e' in s"
   ]
  },
  {
   "cell_type": "code",
   "execution_count": 16,
   "metadata": {},
   "outputs": [
    {
     "output_type": "execute_result",
     "data": {
      "text/plain": [
       "False"
      ]
     },
     "metadata": {},
     "execution_count": 16
    }
   ],
   "source": [
    "'f' in s"
   ]
  },
  {
   "cell_type": "code",
   "execution_count": 17,
   "metadata": {},
   "outputs": [
    {
     "output_type": "execute_result",
     "data": {
      "text/plain": [
       "a    -1.808922\n",
       "b     2.614744\n",
       "c    -0.311900\n",
       "d     2.396324\n",
       "e    24.000000\n",
       "dtype: float64"
      ]
     },
     "metadata": {},
     "execution_count": 17
    }
   ],
   "source": [
    "s + s"
   ]
  },
  {
   "cell_type": "code",
   "execution_count": 18,
   "metadata": {},
   "outputs": [
    {
     "output_type": "execute_result",
     "data": {
      "text/plain": [
       "a         NaN\n",
       "b    2.614744\n",
       "c   -0.311900\n",
       "d    2.396324\n",
       "e         NaN\n",
       "dtype: float64"
      ]
     },
     "metadata": {},
     "execution_count": 18
    }
   ],
   "source": [
    "s[1:] + s[:-1]"
   ]
  },
  {
   "cell_type": "code",
   "execution_count": 19,
   "metadata": {},
   "outputs": [],
   "source": [
    "s = pd.Series(np.random.randn(5), name='something')"
   ]
  },
  {
   "cell_type": "code",
   "execution_count": 20,
   "metadata": {},
   "outputs": [
    {
     "output_type": "execute_result",
     "data": {
      "text/plain": [
       "'something'"
      ]
     },
     "metadata": {},
     "execution_count": 20
    }
   ],
   "source": [
    "s.name"
   ]
  },
  {
   "source": [
    "### Dataframe\n",
    "\n",
    "Un DataFrame es una estructura de datos bidimensional con columnas de datos no necesariamente iguales. Un DataFrame se suele comparar con una tabla de excel o una tabla en una base de datos.\n",
    "\n",
    "Generalmente, el DataFrame es el objeto más usado de Pandas. Puede aceptar distintos tipos de entradas:\n",
    "  - diccionario de arrays 1d, listas, dicts o Series\n",
    "  - array numpy de 2 dimensiones\n",
    "  - Un Series\n",
    "  - Otro DataFrame\n",
    "\n",
    "Junto con los datos, se puede especificar un `index` (etiquetas de filas) y `columns` (etiquetas de columnas.\n",
    ")"
   ],
   "cell_type": "markdown",
   "metadata": {}
  },
  {
   "cell_type": "code",
   "execution_count": 24,
   "metadata": {},
   "outputs": [],
   "source": [
    "d = {'one': pd.Series([1., 2., 3.], index=['a', 'b', 'c']),\n",
    "    'two': pd.Series([1., 2., 3., 4.], index=['a', 'b', 'c', 'd'])}"
   ]
  },
  {
   "cell_type": "code",
   "execution_count": 25,
   "metadata": {},
   "outputs": [
    {
     "output_type": "execute_result",
     "data": {
      "text/plain": [
       "   one  two\n",
       "d  NaN  4.0\n",
       "b  2.0  2.0\n",
       "a  1.0  1.0"
      ],
      "text/html": "<div>\n<style scoped>\n    .dataframe tbody tr th:only-of-type {\n        vertical-align: middle;\n    }\n\n    .dataframe tbody tr th {\n        vertical-align: top;\n    }\n\n    .dataframe thead th {\n        text-align: right;\n    }\n</style>\n<table border=\"1\" class=\"dataframe\">\n  <thead>\n    <tr style=\"text-align: right;\">\n      <th></th>\n      <th>one</th>\n      <th>two</th>\n    </tr>\n  </thead>\n  <tbody>\n    <tr>\n      <th>d</th>\n      <td>NaN</td>\n      <td>4.0</td>\n    </tr>\n    <tr>\n      <th>b</th>\n      <td>2.0</td>\n      <td>2.0</td>\n    </tr>\n    <tr>\n      <th>a</th>\n      <td>1.0</td>\n      <td>1.0</td>\n    </tr>\n  </tbody>\n</table>\n</div>"
     },
     "metadata": {},
     "execution_count": 25
    }
   ],
   "source": [
    "pd.DataFrame(d, index=['d', 'b', 'a'])"
   ]
  },
  {
   "cell_type": "code",
   "execution_count": 26,
   "metadata": {},
   "outputs": [
    {
     "output_type": "execute_result",
     "data": {
      "text/plain": [
       "   two three\n",
       "d  4.0   NaN\n",
       "b  2.0   NaN\n",
       "a  1.0   NaN"
      ],
      "text/html": "<div>\n<style scoped>\n    .dataframe tbody tr th:only-of-type {\n        vertical-align: middle;\n    }\n\n    .dataframe tbody tr th {\n        vertical-align: top;\n    }\n\n    .dataframe thead th {\n        text-align: right;\n    }\n</style>\n<table border=\"1\" class=\"dataframe\">\n  <thead>\n    <tr style=\"text-align: right;\">\n      <th></th>\n      <th>two</th>\n      <th>three</th>\n    </tr>\n  </thead>\n  <tbody>\n    <tr>\n      <th>d</th>\n      <td>4.0</td>\n      <td>NaN</td>\n    </tr>\n    <tr>\n      <th>b</th>\n      <td>2.0</td>\n      <td>NaN</td>\n    </tr>\n    <tr>\n      <th>a</th>\n      <td>1.0</td>\n      <td>NaN</td>\n    </tr>\n  </tbody>\n</table>\n</div>"
     },
     "metadata": {},
     "execution_count": 26
    }
   ],
   "source": [
    "pd.DataFrame(d, index=['d', 'b', 'a'], columns=['two', 'three'])"
   ]
  },
  {
   "cell_type": "code",
   "execution_count": 27,
   "metadata": {},
   "outputs": [
    {
     "output_type": "execute_result",
     "data": {
      "text/plain": [
       "Index(['a', 'b', 'c', 'd', 'e'], dtype='object')"
      ]
     },
     "metadata": {},
     "execution_count": 27
    }
   ],
   "source": [
    "df.index"
   ]
  },
  {
   "cell_type": "code",
   "execution_count": 28,
   "metadata": {},
   "outputs": [
    {
     "output_type": "execute_result",
     "data": {
      "text/plain": [
       "Index(['one', 'two', 'three'], dtype='object')"
      ]
     },
     "metadata": {},
     "execution_count": 28
    }
   ],
   "source": [
    "df.columns"
   ]
  },
  {
   "cell_type": "code",
   "execution_count": 29,
   "metadata": {},
   "outputs": [
    {
     "output_type": "execute_result",
     "data": {
      "text/plain": [
       "   one  two\n",
       "0  1.0  4.0\n",
       "1  2.0  3.0\n",
       "2  3.0  2.0\n",
       "3  4.0  1.0"
      ],
      "text/html": "<div>\n<style scoped>\n    .dataframe tbody tr th:only-of-type {\n        vertical-align: middle;\n    }\n\n    .dataframe tbody tr th {\n        vertical-align: top;\n    }\n\n    .dataframe thead th {\n        text-align: right;\n    }\n</style>\n<table border=\"1\" class=\"dataframe\">\n  <thead>\n    <tr style=\"text-align: right;\">\n      <th></th>\n      <th>one</th>\n      <th>two</th>\n    </tr>\n  </thead>\n  <tbody>\n    <tr>\n      <th>0</th>\n      <td>1.0</td>\n      <td>4.0</td>\n    </tr>\n    <tr>\n      <th>1</th>\n      <td>2.0</td>\n      <td>3.0</td>\n    </tr>\n    <tr>\n      <th>2</th>\n      <td>3.0</td>\n      <td>2.0</td>\n    </tr>\n    <tr>\n      <th>3</th>\n      <td>4.0</td>\n      <td>1.0</td>\n    </tr>\n  </tbody>\n</table>\n</div>"
     },
     "metadata": {},
     "execution_count": 29
    }
   ],
   "source": [
    "d = {'one': [1., 2., 3., 4.],'two': [4., 3., 2., 1.]}\n",
    "pd.DataFrame(d)"
   ]
  },
  {
   "cell_type": "code",
   "execution_count": 30,
   "metadata": {},
   "outputs": [
    {
     "output_type": "execute_result",
     "data": {
      "text/plain": [
       "   one  two\n",
       "a  1.0  4.0\n",
       "b  2.0  3.0\n",
       "c  3.0  2.0\n",
       "d  4.0  1.0"
      ],
      "text/html": "<div>\n<style scoped>\n    .dataframe tbody tr th:only-of-type {\n        vertical-align: middle;\n    }\n\n    .dataframe tbody tr th {\n        vertical-align: top;\n    }\n\n    .dataframe thead th {\n        text-align: right;\n    }\n</style>\n<table border=\"1\" class=\"dataframe\">\n  <thead>\n    <tr style=\"text-align: right;\">\n      <th></th>\n      <th>one</th>\n      <th>two</th>\n    </tr>\n  </thead>\n  <tbody>\n    <tr>\n      <th>a</th>\n      <td>1.0</td>\n      <td>4.0</td>\n    </tr>\n    <tr>\n      <th>b</th>\n      <td>2.0</td>\n      <td>3.0</td>\n    </tr>\n    <tr>\n      <th>c</th>\n      <td>3.0</td>\n      <td>2.0</td>\n    </tr>\n    <tr>\n      <th>d</th>\n      <td>4.0</td>\n      <td>1.0</td>\n    </tr>\n  </tbody>\n</table>\n</div>"
     },
     "metadata": {},
     "execution_count": 30
    }
   ],
   "source": [
    "pd.DataFrame(d, index=['a', 'b', 'c', 'd'])"
   ]
  },
  {
   "cell_type": "code",
   "execution_count": 31,
   "metadata": {},
   "outputs": [
    {
     "output_type": "execute_result",
     "data": {
      "text/plain": [
       "array([(0, 0., b''), (0, 0., b'')],\n",
       "      dtype=[('A', '<i4'), ('B', '<f4'), ('C', 'S10')])"
      ]
     },
     "metadata": {},
     "execution_count": 31
    }
   ],
   "source": [
    "data = np.zeros((2, ), dtype=[('A', 'i4'), ('B', 'f4'), ('C', 'a10')])\n",
    "data"
   ]
  },
  {
   "cell_type": "code",
   "execution_count": 32,
   "metadata": {},
   "outputs": [
    {
     "output_type": "execute_result",
     "data": {
      "text/plain": [
       "   A    B         C\n",
       "0  1  2.0  b'Hello'\n",
       "1  2  3.0  b'World'"
      ],
      "text/html": "<div>\n<style scoped>\n    .dataframe tbody tr th:only-of-type {\n        vertical-align: middle;\n    }\n\n    .dataframe tbody tr th {\n        vertical-align: top;\n    }\n\n    .dataframe thead th {\n        text-align: right;\n    }\n</style>\n<table border=\"1\" class=\"dataframe\">\n  <thead>\n    <tr style=\"text-align: right;\">\n      <th></th>\n      <th>A</th>\n      <th>B</th>\n      <th>C</th>\n    </tr>\n  </thead>\n  <tbody>\n    <tr>\n      <th>0</th>\n      <td>1</td>\n      <td>2.0</td>\n      <td>b'Hello'</td>\n    </tr>\n    <tr>\n      <th>1</th>\n      <td>2</td>\n      <td>3.0</td>\n      <td>b'World'</td>\n    </tr>\n  </tbody>\n</table>\n</div>"
     },
     "metadata": {},
     "execution_count": 32
    }
   ],
   "source": [
    "data[:] = [(1, 2., 'Hello'), (2, 3., \"World\")]\n",
    "pd.DataFrame(data)"
   ]
  },
  {
   "cell_type": "code",
   "execution_count": 33,
   "metadata": {},
   "outputs": [
    {
     "output_type": "execute_result",
     "data": {
      "text/plain": [
       "        A    B         C\n",
       "first   1  2.0  b'Hello'\n",
       "second  2  3.0  b'World'"
      ],
      "text/html": "<div>\n<style scoped>\n    .dataframe tbody tr th:only-of-type {\n        vertical-align: middle;\n    }\n\n    .dataframe tbody tr th {\n        vertical-align: top;\n    }\n\n    .dataframe thead th {\n        text-align: right;\n    }\n</style>\n<table border=\"1\" class=\"dataframe\">\n  <thead>\n    <tr style=\"text-align: right;\">\n      <th></th>\n      <th>A</th>\n      <th>B</th>\n      <th>C</th>\n    </tr>\n  </thead>\n  <tbody>\n    <tr>\n      <th>first</th>\n      <td>1</td>\n      <td>2.0</td>\n      <td>b'Hello'</td>\n    </tr>\n    <tr>\n      <th>second</th>\n      <td>2</td>\n      <td>3.0</td>\n      <td>b'World'</td>\n    </tr>\n  </tbody>\n</table>\n</div>"
     },
     "metadata": {},
     "execution_count": 33
    }
   ],
   "source": [
    "pd.DataFrame(data, index=['first', 'second'])"
   ]
  },
  {
   "cell_type": "code",
   "execution_count": 34,
   "metadata": {},
   "outputs": [
    {
     "output_type": "execute_result",
     "data": {
      "text/plain": [
       "          C  A    B\n",
       "0  b'Hello'  1  2.0\n",
       "1  b'World'  2  3.0"
      ],
      "text/html": "<div>\n<style scoped>\n    .dataframe tbody tr th:only-of-type {\n        vertical-align: middle;\n    }\n\n    .dataframe tbody tr th {\n        vertical-align: top;\n    }\n\n    .dataframe thead th {\n        text-align: right;\n    }\n</style>\n<table border=\"1\" class=\"dataframe\">\n  <thead>\n    <tr style=\"text-align: right;\">\n      <th></th>\n      <th>C</th>\n      <th>A</th>\n      <th>B</th>\n    </tr>\n  </thead>\n  <tbody>\n    <tr>\n      <th>0</th>\n      <td>b'Hello'</td>\n      <td>1</td>\n      <td>2.0</td>\n    </tr>\n    <tr>\n      <th>1</th>\n      <td>b'World'</td>\n      <td>2</td>\n      <td>3.0</td>\n    </tr>\n  </tbody>\n</table>\n</div>"
     },
     "metadata": {},
     "execution_count": 34
    }
   ],
   "source": [
    "pd.DataFrame(data, columns=['C', 'A', 'B'])"
   ]
  },
  {
   "cell_type": "code",
   "execution_count": 35,
   "metadata": {},
   "outputs": [],
   "source": [
    "dates = pd.date_range('20130101', periods=6)\n",
    "df = pd.DataFrame(np.random.randn(6, 4), index=dates, columns=list('ABCD'))"
   ]
  },
  {
   "cell_type": "code",
   "execution_count": 36,
   "metadata": {},
   "outputs": [
    {
     "output_type": "execute_result",
     "data": {
      "text/plain": [
       "                   A         B         C         D\n",
       "2013-01-01 -0.707569  1.214420 -1.968239 -0.836022\n",
       "2013-01-02 -0.426260 -0.819122 -2.466912 -1.329321\n",
       "2013-01-03  0.492334 -0.428974 -0.273841  0.839468\n",
       "2013-01-04 -2.427030 -0.015659 -0.627664  0.544265\n",
       "2013-01-05  0.002603  0.696186  1.130312  1.292582\n",
       "2013-01-06  0.064660 -1.207287  0.269181 -0.726179"
      ],
      "text/html": "<div>\n<style scoped>\n    .dataframe tbody tr th:only-of-type {\n        vertical-align: middle;\n    }\n\n    .dataframe tbody tr th {\n        vertical-align: top;\n    }\n\n    .dataframe thead th {\n        text-align: right;\n    }\n</style>\n<table border=\"1\" class=\"dataframe\">\n  <thead>\n    <tr style=\"text-align: right;\">\n      <th></th>\n      <th>A</th>\n      <th>B</th>\n      <th>C</th>\n      <th>D</th>\n    </tr>\n  </thead>\n  <tbody>\n    <tr>\n      <th>2013-01-01</th>\n      <td>-0.707569</td>\n      <td>1.214420</td>\n      <td>-1.968239</td>\n      <td>-0.836022</td>\n    </tr>\n    <tr>\n      <th>2013-01-02</th>\n      <td>-0.426260</td>\n      <td>-0.819122</td>\n      <td>-2.466912</td>\n      <td>-1.329321</td>\n    </tr>\n    <tr>\n      <th>2013-01-03</th>\n      <td>0.492334</td>\n      <td>-0.428974</td>\n      <td>-0.273841</td>\n      <td>0.839468</td>\n    </tr>\n    <tr>\n      <th>2013-01-04</th>\n      <td>-2.427030</td>\n      <td>-0.015659</td>\n      <td>-0.627664</td>\n      <td>0.544265</td>\n    </tr>\n    <tr>\n      <th>2013-01-05</th>\n      <td>0.002603</td>\n      <td>0.696186</td>\n      <td>1.130312</td>\n      <td>1.292582</td>\n    </tr>\n    <tr>\n      <th>2013-01-06</th>\n      <td>0.064660</td>\n      <td>-1.207287</td>\n      <td>0.269181</td>\n      <td>-0.726179</td>\n    </tr>\n  </tbody>\n</table>\n</div>"
     },
     "metadata": {},
     "execution_count": 36
    }
   ],
   "source": [
    "df"
   ]
  },
  {
   "source": [
    "## Operaciones\n",
    "\n"
   ],
   "cell_type": "markdown",
   "metadata": {}
  },
  {
   "cell_type": "code",
   "execution_count": 38,
   "metadata": {},
   "outputs": [
    {
     "output_type": "execute_result",
     "data": {
      "text/plain": [
       "                   A         B         C         D\n",
       "2013-01-01 -0.707569  1.214420 -1.968239 -0.836022\n",
       "2013-01-02 -0.426260 -0.819122 -2.466912 -1.329321"
      ],
      "text/html": "<div>\n<style scoped>\n    .dataframe tbody tr th:only-of-type {\n        vertical-align: middle;\n    }\n\n    .dataframe tbody tr th {\n        vertical-align: top;\n    }\n\n    .dataframe thead th {\n        text-align: right;\n    }\n</style>\n<table border=\"1\" class=\"dataframe\">\n  <thead>\n    <tr style=\"text-align: right;\">\n      <th></th>\n      <th>A</th>\n      <th>B</th>\n      <th>C</th>\n      <th>D</th>\n    </tr>\n  </thead>\n  <tbody>\n    <tr>\n      <th>2013-01-01</th>\n      <td>-0.707569</td>\n      <td>1.214420</td>\n      <td>-1.968239</td>\n      <td>-0.836022</td>\n    </tr>\n    <tr>\n      <th>2013-01-02</th>\n      <td>-0.426260</td>\n      <td>-0.819122</td>\n      <td>-2.466912</td>\n      <td>-1.329321</td>\n    </tr>\n  </tbody>\n</table>\n</div>"
     },
     "metadata": {},
     "execution_count": 38
    }
   ],
   "source": [
    "df.head(2)"
   ]
  },
  {
   "cell_type": "code",
   "execution_count": 39,
   "metadata": {},
   "outputs": [
    {
     "output_type": "execute_result",
     "data": {
      "text/plain": [
       "                   A         B         C         D\n",
       "2013-01-04 -2.427030 -0.015659 -0.627664  0.544265\n",
       "2013-01-05  0.002603  0.696186  1.130312  1.292582\n",
       "2013-01-06  0.064660 -1.207287  0.269181 -0.726179"
      ],
      "text/html": "<div>\n<style scoped>\n    .dataframe tbody tr th:only-of-type {\n        vertical-align: middle;\n    }\n\n    .dataframe tbody tr th {\n        vertical-align: top;\n    }\n\n    .dataframe thead th {\n        text-align: right;\n    }\n</style>\n<table border=\"1\" class=\"dataframe\">\n  <thead>\n    <tr style=\"text-align: right;\">\n      <th></th>\n      <th>A</th>\n      <th>B</th>\n      <th>C</th>\n      <th>D</th>\n    </tr>\n  </thead>\n  <tbody>\n    <tr>\n      <th>2013-01-04</th>\n      <td>-2.427030</td>\n      <td>-0.015659</td>\n      <td>-0.627664</td>\n      <td>0.544265</td>\n    </tr>\n    <tr>\n      <th>2013-01-05</th>\n      <td>0.002603</td>\n      <td>0.696186</td>\n      <td>1.130312</td>\n      <td>1.292582</td>\n    </tr>\n    <tr>\n      <th>2013-01-06</th>\n      <td>0.064660</td>\n      <td>-1.207287</td>\n      <td>0.269181</td>\n      <td>-0.726179</td>\n    </tr>\n  </tbody>\n</table>\n</div>"
     },
     "metadata": {},
     "execution_count": 39
    }
   ],
   "source": [
    "df.tail(3)"
   ]
  },
  {
   "cell_type": "code",
   "execution_count": 40,
   "metadata": {},
   "outputs": [
    {
     "output_type": "execute_result",
     "data": {
      "text/plain": [
       "              A         B         C         D\n",
       "count  6.000000  6.000000  6.000000  6.000000\n",
       "mean  -0.500210 -0.093406 -0.656194 -0.035868\n",
       "std    1.031324  0.918685  1.356104  1.063705\n",
       "min   -2.427030 -1.207287 -2.466912 -1.329321\n",
       "25%   -0.637242 -0.721585 -1.633095 -0.808561\n",
       "50%   -0.211829 -0.222316 -0.450752 -0.090957\n",
       "75%    0.049145  0.518225  0.133426  0.765668\n",
       "max    0.492334  1.214420  1.130312  1.292582"
      ],
      "text/html": "<div>\n<style scoped>\n    .dataframe tbody tr th:only-of-type {\n        vertical-align: middle;\n    }\n\n    .dataframe tbody tr th {\n        vertical-align: top;\n    }\n\n    .dataframe thead th {\n        text-align: right;\n    }\n</style>\n<table border=\"1\" class=\"dataframe\">\n  <thead>\n    <tr style=\"text-align: right;\">\n      <th></th>\n      <th>A</th>\n      <th>B</th>\n      <th>C</th>\n      <th>D</th>\n    </tr>\n  </thead>\n  <tbody>\n    <tr>\n      <th>count</th>\n      <td>6.000000</td>\n      <td>6.000000</td>\n      <td>6.000000</td>\n      <td>6.000000</td>\n    </tr>\n    <tr>\n      <th>mean</th>\n      <td>-0.500210</td>\n      <td>-0.093406</td>\n      <td>-0.656194</td>\n      <td>-0.035868</td>\n    </tr>\n    <tr>\n      <th>std</th>\n      <td>1.031324</td>\n      <td>0.918685</td>\n      <td>1.356104</td>\n      <td>1.063705</td>\n    </tr>\n    <tr>\n      <th>min</th>\n      <td>-2.427030</td>\n      <td>-1.207287</td>\n      <td>-2.466912</td>\n      <td>-1.329321</td>\n    </tr>\n    <tr>\n      <th>25%</th>\n      <td>-0.637242</td>\n      <td>-0.721585</td>\n      <td>-1.633095</td>\n      <td>-0.808561</td>\n    </tr>\n    <tr>\n      <th>50%</th>\n      <td>-0.211829</td>\n      <td>-0.222316</td>\n      <td>-0.450752</td>\n      <td>-0.090957</td>\n    </tr>\n    <tr>\n      <th>75%</th>\n      <td>0.049145</td>\n      <td>0.518225</td>\n      <td>0.133426</td>\n      <td>0.765668</td>\n    </tr>\n    <tr>\n      <th>max</th>\n      <td>0.492334</td>\n      <td>1.214420</td>\n      <td>1.130312</td>\n      <td>1.292582</td>\n    </tr>\n  </tbody>\n</table>\n</div>"
     },
     "metadata": {},
     "execution_count": 40
    }
   ],
   "source": [
    "df.describe()"
   ]
  },
  {
   "cell_type": "code",
   "execution_count": 41,
   "metadata": {},
   "outputs": [
    {
     "output_type": "execute_result",
     "data": {
      "text/plain": [
       "   2013-01-01  2013-01-02  2013-01-03  2013-01-04  2013-01-05  2013-01-06\n",
       "A   -0.707569   -0.426260    0.492334   -2.427030    0.002603    0.064660\n",
       "B    1.214420   -0.819122   -0.428974   -0.015659    0.696186   -1.207287\n",
       "C   -1.968239   -2.466912   -0.273841   -0.627664    1.130312    0.269181\n",
       "D   -0.836022   -1.329321    0.839468    0.544265    1.292582   -0.726179"
      ],
      "text/html": "<div>\n<style scoped>\n    .dataframe tbody tr th:only-of-type {\n        vertical-align: middle;\n    }\n\n    .dataframe tbody tr th {\n        vertical-align: top;\n    }\n\n    .dataframe thead th {\n        text-align: right;\n    }\n</style>\n<table border=\"1\" class=\"dataframe\">\n  <thead>\n    <tr style=\"text-align: right;\">\n      <th></th>\n      <th>2013-01-01</th>\n      <th>2013-01-02</th>\n      <th>2013-01-03</th>\n      <th>2013-01-04</th>\n      <th>2013-01-05</th>\n      <th>2013-01-06</th>\n    </tr>\n  </thead>\n  <tbody>\n    <tr>\n      <th>A</th>\n      <td>-0.707569</td>\n      <td>-0.426260</td>\n      <td>0.492334</td>\n      <td>-2.427030</td>\n      <td>0.002603</td>\n      <td>0.064660</td>\n    </tr>\n    <tr>\n      <th>B</th>\n      <td>1.214420</td>\n      <td>-0.819122</td>\n      <td>-0.428974</td>\n      <td>-0.015659</td>\n      <td>0.696186</td>\n      <td>-1.207287</td>\n    </tr>\n    <tr>\n      <th>C</th>\n      <td>-1.968239</td>\n      <td>-2.466912</td>\n      <td>-0.273841</td>\n      <td>-0.627664</td>\n      <td>1.130312</td>\n      <td>0.269181</td>\n    </tr>\n    <tr>\n      <th>D</th>\n      <td>-0.836022</td>\n      <td>-1.329321</td>\n      <td>0.839468</td>\n      <td>0.544265</td>\n      <td>1.292582</td>\n      <td>-0.726179</td>\n    </tr>\n  </tbody>\n</table>\n</div>"
     },
     "metadata": {},
     "execution_count": 41
    }
   ],
   "source": [
    "df.T"
   ]
  },
  {
   "cell_type": "code",
   "execution_count": 42,
   "metadata": {},
   "outputs": [
    {
     "output_type": "execute_result",
     "data": {
      "text/plain": [
       "                   D         C         B         A\n",
       "2013-01-01 -0.836022 -1.968239  1.214420 -0.707569\n",
       "2013-01-02 -1.329321 -2.466912 -0.819122 -0.426260\n",
       "2013-01-03  0.839468 -0.273841 -0.428974  0.492334\n",
       "2013-01-04  0.544265 -0.627664 -0.015659 -2.427030\n",
       "2013-01-05  1.292582  1.130312  0.696186  0.002603\n",
       "2013-01-06 -0.726179  0.269181 -1.207287  0.064660"
      ],
      "text/html": "<div>\n<style scoped>\n    .dataframe tbody tr th:only-of-type {\n        vertical-align: middle;\n    }\n\n    .dataframe tbody tr th {\n        vertical-align: top;\n    }\n\n    .dataframe thead th {\n        text-align: right;\n    }\n</style>\n<table border=\"1\" class=\"dataframe\">\n  <thead>\n    <tr style=\"text-align: right;\">\n      <th></th>\n      <th>D</th>\n      <th>C</th>\n      <th>B</th>\n      <th>A</th>\n    </tr>\n  </thead>\n  <tbody>\n    <tr>\n      <th>2013-01-01</th>\n      <td>-0.836022</td>\n      <td>-1.968239</td>\n      <td>1.214420</td>\n      <td>-0.707569</td>\n    </tr>\n    <tr>\n      <th>2013-01-02</th>\n      <td>-1.329321</td>\n      <td>-2.466912</td>\n      <td>-0.819122</td>\n      <td>-0.426260</td>\n    </tr>\n    <tr>\n      <th>2013-01-03</th>\n      <td>0.839468</td>\n      <td>-0.273841</td>\n      <td>-0.428974</td>\n      <td>0.492334</td>\n    </tr>\n    <tr>\n      <th>2013-01-04</th>\n      <td>0.544265</td>\n      <td>-0.627664</td>\n      <td>-0.015659</td>\n      <td>-2.427030</td>\n    </tr>\n    <tr>\n      <th>2013-01-05</th>\n      <td>1.292582</td>\n      <td>1.130312</td>\n      <td>0.696186</td>\n      <td>0.002603</td>\n    </tr>\n    <tr>\n      <th>2013-01-06</th>\n      <td>-0.726179</td>\n      <td>0.269181</td>\n      <td>-1.207287</td>\n      <td>0.064660</td>\n    </tr>\n  </tbody>\n</table>\n</div>"
     },
     "metadata": {},
     "execution_count": 42
    }
   ],
   "source": [
    "df.sort_index(axis=1, ascending=False)"
   ]
  },
  {
   "cell_type": "code",
   "execution_count": 43,
   "metadata": {},
   "outputs": [
    {
     "output_type": "execute_result",
     "data": {
      "text/plain": [
       "                   A         B         C         D\n",
       "2013-01-06  0.064660 -1.207287  0.269181 -0.726179\n",
       "2013-01-02 -0.426260 -0.819122 -2.466912 -1.329321\n",
       "2013-01-03  0.492334 -0.428974 -0.273841  0.839468\n",
       "2013-01-04 -2.427030 -0.015659 -0.627664  0.544265\n",
       "2013-01-05  0.002603  0.696186  1.130312  1.292582\n",
       "2013-01-01 -0.707569  1.214420 -1.968239 -0.836022"
      ],
      "text/html": "<div>\n<style scoped>\n    .dataframe tbody tr th:only-of-type {\n        vertical-align: middle;\n    }\n\n    .dataframe tbody tr th {\n        vertical-align: top;\n    }\n\n    .dataframe thead th {\n        text-align: right;\n    }\n</style>\n<table border=\"1\" class=\"dataframe\">\n  <thead>\n    <tr style=\"text-align: right;\">\n      <th></th>\n      <th>A</th>\n      <th>B</th>\n      <th>C</th>\n      <th>D</th>\n    </tr>\n  </thead>\n  <tbody>\n    <tr>\n      <th>2013-01-06</th>\n      <td>0.064660</td>\n      <td>-1.207287</td>\n      <td>0.269181</td>\n      <td>-0.726179</td>\n    </tr>\n    <tr>\n      <th>2013-01-02</th>\n      <td>-0.426260</td>\n      <td>-0.819122</td>\n      <td>-2.466912</td>\n      <td>-1.329321</td>\n    </tr>\n    <tr>\n      <th>2013-01-03</th>\n      <td>0.492334</td>\n      <td>-0.428974</td>\n      <td>-0.273841</td>\n      <td>0.839468</td>\n    </tr>\n    <tr>\n      <th>2013-01-04</th>\n      <td>-2.427030</td>\n      <td>-0.015659</td>\n      <td>-0.627664</td>\n      <td>0.544265</td>\n    </tr>\n    <tr>\n      <th>2013-01-05</th>\n      <td>0.002603</td>\n      <td>0.696186</td>\n      <td>1.130312</td>\n      <td>1.292582</td>\n    </tr>\n    <tr>\n      <th>2013-01-01</th>\n      <td>-0.707569</td>\n      <td>1.214420</td>\n      <td>-1.968239</td>\n      <td>-0.836022</td>\n    </tr>\n  </tbody>\n</table>\n</div>"
     },
     "metadata": {},
     "execution_count": 43
    }
   ],
   "source": [
    "df.sort_values(by='B')"
   ]
  },
  {
   "cell_type": "code",
   "execution_count": 44,
   "metadata": {},
   "outputs": [
    {
     "output_type": "execute_result",
     "data": {
      "text/plain": [
       "array([[-0.70756876,  1.21441993, -1.96823863, -0.83602192],\n",
       "       [-0.42625984, -0.81912215, -2.46691202, -1.32932092],\n",
       "       [ 0.49233387, -0.42897435, -0.27384076,  0.83946849],\n",
       "       [-2.42703046, -0.01565853, -0.62766354,  0.54426477],\n",
       "       [ 0.00260252,  0.69618613,  1.13031153,  1.2925817 ],\n",
       "       [ 0.06465975, -1.20728717,  0.26918105, -0.72617943]])"
      ]
     },
     "metadata": {},
     "execution_count": 44
    }
   ],
   "source": [
    "df.to_numpy()"
   ]
  },
  {
   "cell_type": "code",
   "execution_count": null,
   "metadata": {},
   "outputs": [],
   "source": []
  }
 ]
}